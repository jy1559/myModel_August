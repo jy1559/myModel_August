{
 "cells": [
  {
   "cell_type": "code",
   "execution_count": 2,
   "id": "eb039d11",
   "metadata": {},
   "outputs": [],
   "source": [
    "import numpy as np\n",
    "import json\n",
    "import pickle\n",
    "\n",
    "candidate = np.load('/home/jy1559/Mar2025_Module/Datasets/Globo/precomputed_candidate.npz')\n",
    "with open('/home/jy1559/Mar2025_Module/Datasets/Globo/interactions_dense.json', 'rb') as f:\n",
    "    interactions = json.load(f)\n",
    "with open('/home/jy1559/Mar2025_Module/Datasets/Globo/item_embedding_dense.pickle', 'rb') as f:\n",
    "    item_embedding = pickle.load(f)\n",
    "with open('/home/jy1559/Mar2025_Module/Datasets/Globo/articles_embeddings_dense.pickle', 'rb') as f:\n",
    "    article_embedding = pickle.load(f)"
   ]
  },
  {
   "cell_type": "code",
   "execution_count": 3,
   "id": "28b4116d",
   "metadata": {},
   "outputs": [
    {
     "name": "stdout",
     "output_type": "stream",
     "text": [
      "(46034, 128)\n"
     ]
    }
   ],
   "source": [
    "print(candidate['values'].shape)"
   ]
  },
  {
   "cell_type": "code",
   "execution_count": 7,
   "id": "b5a1ed07",
   "metadata": {},
   "outputs": [
    {
     "name": "stdout",
     "output_type": "stream",
     "text": [
      "[[[21331, 27.994, [1, 3, 4, 20, 2, 20, 2, True]], [9350, 57.994, [1, 3, 4, 20, 2, 20, 2, True]]], [[13648, 513233.129, [1, 3, 4, 20, 2, 20, 2, True]], [40929, 513263.129, [1, 3, 4, 20, 2, 20, 2, True]]], [[21838, 561290.889, [1, 3, 4, 20, 2, 20, 2, True]], [30856, 561320.889, [1, 3, 4, 20, 2, 20, 2, True]]], [[12383, 687256.591, [1, 3, 4, 20, 2, 20, 2, True]], [12369, 687286.591, [1, 3, 4, 20, 2, 20, 2, True]]]]\n",
      "59\n",
      "59\n",
      "59\n",
      "59\n",
      "59\n",
      "59\n",
      "59\n",
      "59\n",
      "[{1, 2, 3, 4, 5, 6, 7, 8, 9, 10, 11}, {1, 2, 3, 4, 5}, {1, 2, 4}, {2, 3, 5, 12, 13, 17, 19, 20}, {1, 2, 3, 4, 5, 6, 7}, {1, 2, 3, 4, 5, 6, 7, 8, 9, 10, 11, 12, 13, 14, 15, 16, 17, 18, 19, 20, 21, 22, 23, 24, 25, 26, 27, 28}, {2, 3, 4, 5, 6, 7, 8, 9, 10, 11, 12, 13, 14, 15, 16, 17, 18, 19, 20, 21, 22, 23, 24, 25, 26, 27, 28, 29, 30, 31, 32, 33, 34, 35, 36, 37, 38, 39, 40, 41, 42, 43, 44, 45, 46, 47, 48, 51, 52, 53, 56, 57, 58, 59, 60, 62, 65, 67, 68, 71, 72, 74, 75, 79, 82, 86, 92, 94, 98, 106, 107, 124}, {True}]\n"
     ]
    }
   ],
   "source": [
    "unique_addinfo = [set() for _ in range(8)]\n",
    "i = 0\n",
    "for key, user in interactions['data'].items():\n",
    "    if i < 3: print(user)\n",
    "    i += 1\n",
    "    for session in user:\n",
    "        for interaction in session:\n",
    "            for i, add_info in enumerate(interaction[2]):\n",
    "                unique_addinfo[i].add(add_info)\n",
    "                if interaction[1] == 0: print(key)\n",
    "                \n",
    "print(unique_addinfo)\n",
    "#[('cat', 11), ('cat', 4), ('cat', 4), ('cat', 20), ('cat', 7), ('cat', 28)]"
   ]
  },
  {
   "cell_type": "code",
   "execution_count": 5,
   "id": "38a4e784",
   "metadata": {},
   "outputs": [
    {
     "name": "stdout",
     "output_type": "stream",
     "text": [
      "46033\n"
     ]
    }
   ],
   "source": [
    "print(max(unique_items))"
   ]
  },
  {
   "cell_type": "code",
   "execution_count": 8,
   "id": "ef025375",
   "metadata": {},
   "outputs": [
    {
     "name": "stdout",
     "output_type": "stream",
     "text": [
      "torch.Size([46034, 384])\n",
      "torch.Size([46034, 250])\n"
     ]
    }
   ],
   "source": [
    "print(item_embedding['embedding_tensor'].shape)\n",
    "print(article_embedding['embedding_tensor'].shape)"
   ]
  },
  {
   "cell_type": "code",
   "execution_count": 16,
   "id": "266687c3",
   "metadata": {},
   "outputs": [
    {
     "ename": "ModuleNotFoundError",
     "evalue": "No module named 'nbformat'",
     "output_type": "error",
     "traceback": [
      "\u001b[0;31m---------------------------------------------------------------------------\u001b[0m",
      "\u001b[0;31mModuleNotFoundError\u001b[0m                       Traceback (most recent call last)",
      "Cell \u001b[0;32mIn[16], line 1\u001b[0m\n\u001b[0;32m----> 1\u001b[0m \u001b[38;5;28;01mfrom\u001b[39;00m\u001b[38;5;250m \u001b[39m\u001b[38;5;21;01mnbformat\u001b[39;00m\u001b[38;5;250m \u001b[39m\u001b[38;5;28;01mimport\u001b[39;00m read, write\n\u001b[1;32m      2\u001b[0m problem_file_name \u001b[38;5;241m=\u001b[39m \u001b[38;5;124m'\u001b[39m\u001b[38;5;124m../coda_test.ipynb\u001b[39m\u001b[38;5;124m'\u001b[39m\n\u001b[1;32m      3\u001b[0m save_file_name \u001b[38;5;241m=\u001b[39m \u001b[38;5;124m'\u001b[39m\u001b[38;5;124m../coda_test_no_output.ipynb\u001b[39m\u001b[38;5;124m'\u001b[39m\n",
      "\u001b[0;31mModuleNotFoundError\u001b[0m: No module named 'nbformat'"
     ]
    }
   ],
   "source": [
    "from nbformat import read, write\n",
    "problem_file_name = '../coda_test.ipynb'\n",
    "save_file_name = '../coda_test_no_output.ipynb'\n",
    "def strip_output(nb):\n",
    "    for cell in nb.cells:\n",
    "        if hasattr(cell, \"outputs\"):\n",
    "            cell.outputs = []\n",
    "        if hasattr(cell, \"prompt_number\"):\n",
    "            del cell[\"prompt_number\"]\n",
    "nb = read(open(problem_file_name, encoding = 'utf8'), 4)\n",
    "strip_output(nb)\n",
    "write(nb, open(save_file_name, \"w\", encoding = 'utf8'), 4)\n"
   ]
  }
 ],
 "metadata": {
  "kernelspec": {
   "display_name": "first",
   "language": "python",
   "name": "python3"
  },
  "language_info": {
   "codemirror_mode": {
    "name": "ipython",
    "version": 3
   },
   "file_extension": ".py",
   "mimetype": "text/x-python",
   "name": "python",
   "nbconvert_exporter": "python",
   "pygments_lexer": "ipython3",
   "version": "3.10.14"
  }
 },
 "nbformat": 4,
 "nbformat_minor": 5
}
